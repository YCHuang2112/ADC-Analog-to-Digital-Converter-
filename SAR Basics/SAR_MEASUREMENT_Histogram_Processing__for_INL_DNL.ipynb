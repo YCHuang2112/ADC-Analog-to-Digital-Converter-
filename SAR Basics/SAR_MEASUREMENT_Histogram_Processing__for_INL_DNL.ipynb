{
 "cells": [
  {
   "cell_type": "code",
   "execution_count": 44,
   "metadata": {},
   "outputs": [],
   "source": [
    "import numpy as np\n",
    "import csv\n",
    "B = 10;\n",
    "Dout = [];\n",
    "Hist = [];\n",
    "for i in range(pow(2,B)):\n",
    "    Hist.append(0)\n",
    "#path='D:\\TapeOut\\SAR02_MCS_MOM 2021_05 (T18-110B-R0025)\\Measurement\\data\\chip1';\n",
    "path='D:\\TapeOut\\SAR02_MCS_MOM 2021_05 (T18-110B-R0025)\\Measurement\\data\\SAR02\\INLDNL\\chip8';\n",
    "#path='D:\\TapeOut\\SAR02_MCS_MOM 2021_05 (T18-110B-R0025)\\Measurement\\data\\SAR02\\chip8';\n",
    "#filename='sar02_mcs_meas_vin_3.3Vpp_204kHz_ConRate1.5MHz_Np4M';\n",
    "#filename='sar02_mcs_meas_vin_3.4Vpp_204kHz_ConRate1.5MHz_Np4M';\n",
    "#filename='sar02_mcs_meas_vin_3.5Vpp_204kHz_ConRate6MHz_Np4M';\n",
    "filename='vin_3.5Vpp_2.04kHz_ConRate10kHz_Np4M';\n",
    "with open(path+'\\\\'+filename+'.csv', newline='') as csvfile:\n",
    "    reader = csv.DictReader(csvfile)\n",
    "    for row in reader:\n",
    "        sig_name = ['My Bus 1[0]','My Bus 1[1]','My Bus 1[2]','My Bus 1[3]','My Bus 1[4]','My Bus 1[5]','My Bus 1[6]','My Bus 1[7]','My Bus 1[8]','My Bus 1[9]']\n",
    "        code = 0;\n",
    "        for i_sig in range(len(sig_name)):\n",
    "            code = code + int(row[sig_name[i_sig]])*int(pow(2,i_sig))\n",
    "            #print(i_sig)\n",
    "        #print(code)\n",
    "        Dout.append(code);\n",
    "\n",
    "        Hist[code] = Hist[code]+1;\n",
    "#for count in Dout:\n",
    "#    print(count)\n",
    "\n",
    "with open(path+'\\\\'+filename+'_Dout_Hist.csv', \"w\") as f:\n",
    "    f.write('Dout_Hist\\n');\n",
    "    for i_Hist in range(len(Hist)):\n",
    "        f.write(str(Hist[i_Hist]));\n",
    "        f.write('\\n');\n",
    "        \n",
    "#print(row)"
   ]
  },
  {
   "cell_type": "code",
   "execution_count": 21,
   "metadata": {},
   "outputs": [
    {
     "name": "stdout",
     "output_type": "stream",
     "text": [
      "0\n",
      "1\n",
      "2\n",
      "3\n",
      "4\n",
      "5\n",
      "10\n"
     ]
    }
   ],
   "source": [
    "x = ['My Bus 1[0]','My Bus 1[1]','My Bus 1[2]','My Bus 1[3]','My Bus 1[4]','My Bus 1[5]','My Bus 1[6]','My Bus 1[7]','My Bus 1[8]','My Bus 1[9]']\n",
    "N = range(6)\n",
    "for j in range(6):\n",
    "    print(j)\n",
    "    \n",
    "print(len(x))"
   ]
  },
  {
   "cell_type": "code",
   "execution_count": 33,
   "metadata": {},
   "outputs": [
    {
     "data": {
      "text/plain": [
       "113"
      ]
     },
     "execution_count": 33,
     "metadata": {},
     "output_type": "execute_result"
    }
   ],
   "source": [
    "len(path+'\\\\'+filename+'.csv')\n"
   ]
  },
  {
   "cell_type": "code",
   "execution_count": 47,
   "metadata": {},
   "outputs": [],
   "source": [
    "import numpy as np\n",
    "import csv\n",
    "B = 10;\n",
    "Dout = [];\n",
    "Hist = [];\n",
    "for i in range(pow(2,B)):\n",
    "    Hist.append(0)\n",
    "#path='D:\\TapeOut\\SAR02_MCS_MOM 2021_05 (T18-110B-R0025)\\Measurement\\data\\chip1';\n",
    "path='D:\\TapeOut\\SAR02_MCS_MOM 2021_05 (T18-110B-R0025)\\Measurement\\data\\SAR02\\INLDNL\\chip1';\n",
    "#path='D:\\TapeOut\\SAR02_MCS_MOM 2021_05 (T18-110B-R0025)\\Measurement\\data\\SAR02\\chip8';\n",
    "#filename='sar02_mcs_meas_vin_3.3Vpp_204kHz_ConRate1.5MHz_Np4M';\n",
    "#filename='sar02_mcs_meas_vin_3.4Vpp_204kHz_ConRate1.5MHz_Np4M';\n",
    "#filename='sar02_mcs_meas_vin_3.5Vpp_204kHz_ConRate6MHz_Np4M';\n",
    "filename='vin_3.5Vpp_204kHz_ConRate2MHz_Np4M';\n",
    "with open(path+'\\\\'+filename+'.csv', newline='') as csvfile:\n",
    "    reader = csv.DictReader(csvfile)\n",
    "    for row in reader:\n",
    "        sig_name = ['My Bus 1[0]','My Bus 1[1]','My Bus 1[2]','My Bus 1[3]','My Bus 1[4]','My Bus 1[5]','My Bus 1[6]','My Bus 1[7]','My Bus 1[8]','My Bus 1[9]']\n",
    "        code = 0;\n",
    "        for i_sig in range(len(sig_name)):\n",
    "            code = code + int(row[sig_name[i_sig]])*int(pow(2,i_sig))\n",
    "            #print(i_sig)\n",
    "        #print(code)\n",
    "        Dout.append(code);\n",
    "\n",
    "        Hist[code] = Hist[code]+1;\n",
    "#for count in Dout:\n",
    "#    print(count)\n",
    "\n",
    "with open(path+'\\\\'+filename+'_Dout_Hist.csv', \"w\") as f:\n",
    "    f.write('Dout_Hist\\n');\n",
    "    for i_Hist in range(len(Hist)):\n",
    "        f.write(str(Hist[i_Hist]));\n",
    "        f.write('\\n');\n",
    "        \n",
    "#print(row)"
   ]
  },
  {
   "cell_type": "code",
   "execution_count": null,
   "metadata": {},
   "outputs": [],
   "source": []
  }
 ],
 "metadata": {
  "kernelspec": {
   "display_name": "Python 3",
   "language": "python",
   "name": "python3"
  },
  "language_info": {
   "codemirror_mode": {
    "name": "ipython",
    "version": 3
   },
   "file_extension": ".py",
   "mimetype": "text/x-python",
   "name": "python",
   "nbconvert_exporter": "python",
   "pygments_lexer": "ipython3",
   "version": "3.8.5"
  }
 },
 "nbformat": 4,
 "nbformat_minor": 4
}
